{
 "cells": [
  {
   "metadata": {},
   "cell_type": "code",
   "source": [
    "import json\n",
    "import os\n",
    "import pathlib\n",
    "\n",
    "source_root = pathlib.Path('D:\\TEMP\\Takeout\\Google Photos\\Photos from 2019')"
   ],
   "id": "a9b62b33d342a3e2",
   "outputs": [],
   "execution_count": null
  },
  {
   "metadata": {},
   "cell_type": "code",
   "source": [
    "def get_all_files(root: pathlib.Path, recursive=False):\n",
    "    files = []\n",
    "    for item in root.iterdir():\n",
    "        if item.is_file():\n",
    "            files.append(item)\n",
    "        elif item.is_dir():\n",
    "            if recursive:\n",
    "                files.extend(get_all_files(item))\n",
    "        else:\n",
    "            raise 'Unknown type: {item}'\n",
    "    return files"
   ],
   "id": "c231cb9fb5596241",
   "outputs": [],
   "execution_count": null
  },
  {
   "metadata": {},
   "cell_type": "code",
   "source": "all_files = get_all_files(source_root)",
   "id": "c543fffd7f6b8086",
   "outputs": [],
   "execution_count": null
  },
  {
   "metadata": {},
   "cell_type": "code",
   "source": "len(all_files)",
   "id": "a5b2c73d3df068ec",
   "outputs": [],
   "execution_count": null
  },
  {
   "metadata": {},
   "cell_type": "code",
   "source": [
    "file_types = set([f.suffix.lower() for f in all_files])\n",
    "media_types = file_types - {'.json'}"
   ],
   "id": "4fd5bc6c5161f377",
   "outputs": [],
   "execution_count": null
  },
  {
   "metadata": {},
   "cell_type": "code",
   "source": [
    "from dataclasses import dataclass\n",
    "import re\n",
    "\n",
    "\n",
    "def get_suffix_number(text):\n",
    "    pattern = r'(\\(\\d+\\))$'\n",
    "    match = re.search(pattern, text.strip())\n",
    "\n",
    "    if match:\n",
    "        return int(match.group(1).removeprefix('(').removesuffix(')'))\n",
    "    else:\n",
    "        return None\n",
    "\n",
    "\n",
    "# fuzzy match media stem name\n",
    "def is_matched_stem(partial_stem, full_stem):\n",
    "    if not full_stem.startswith(partial_stem):\n",
    "        return False\n",
    "    return len(partial_stem) / len(full_stem) >= 0.4\n",
    "\n",
    "\n",
    "# use this to handle xxx-COLLAGE.jpg\n",
    "def stem_similarity(partial_stem, full_stem):\n",
    "    if not full_stem.startswith(partial_stem):\n",
    "        return 0.0\n",
    "    return len(partial_stem) / len(full_stem)\n",
    "\n",
    "\n",
    "def is_matched_pair(media_info, metadata):\n",
    "    if metadata['target_ext'] != '':\n",
    "        return media_info['target_ext'] == metadata['target_ext'] and is_matched_stem(media_info['target_stem'],\n",
    "                                                                                      metadata['target_stem'])\n",
    "    return is_matched_stem(media_info['target_stem'], metadata['target_stem'])\n",
    "\n",
    "\n",
    "def is_edited_version(target_stem, metadata_objs):\n",
    "    \"\"\"\n",
    "    Warning: only for media that ends with '(1)'.\n",
    "    Media file ends with '(1)': Situation 1, this file is an edited file. Situation 2, this file is a duplicated name. \n",
    "    How to tell: if metadata with the same name has a version ends with '(1)', then it's a name duplicated media file.\n",
    "    If the corresponding metadata file does not end with '(1)', it's an edited file.\n",
    "    \"\"\"\n",
    "    has_matched = False\n",
    "    for metadata in metadata_objs:\n",
    "        if metadata['target_stem'].startswith(target_stem):\n",
    "            has_matched = True\n",
    "            if metadata['meta_duplicated_number'] == 1:\n",
    "                return False\n",
    "    assert has_matched, f'{target_stem} has no matched metadata'\n",
    "    return True\n",
    "\n",
    "\n",
    "@dataclass\n",
    "class MediaVersion:\n",
    "    ORIGINAL = 'original'\n",
    "    EDITED = 'edited'\n",
    "    DUPLICAT_NAME = 'duplicate_name'\n",
    "\n",
    "\n",
    "def is_media_metadata(json_obj):\n",
    "    return json_obj.get('imageViews', None)\n",
    "\n",
    "\n",
    "def load_metadata(f):\n",
    "    json_obj = json.load(f.open(encoding='utf-8'))\n",
    "    json_obj['file_path'] = f\n",
    "    return json_obj"
   ],
   "id": "e87625c85b6236ff",
   "outputs": [],
   "execution_count": null
  },
  {
   "metadata": {},
   "cell_type": "code",
   "source": [
    "media_files = list(filter(lambda x: x.suffix != '.json', all_files))\n",
    "metadata_files = list(filter(lambda x: x.suffix == '.json', all_files))\n",
    "metadata_objs = [obj for f in metadata_files if is_media_metadata(obj := load_metadata(f))]"
   ],
   "id": "26ffed0192e4601b",
   "outputs": [],
   "execution_count": null
  },
  {
   "metadata": {},
   "cell_type": "code",
   "source": [
    "# mark metadata\n",
    "for metadata in metadata_objs:\n",
    "    file_name, file_ext = os.path.splitext(metadata['file_path'])\n",
    "    metadata['meta_duplicated_number'] = get_suffix_number(file_name)\n",
    "    metadata['target_stem'], metadata['target_ext'] = os.path.splitext(metadata['title'])"
   ],
   "id": "30e22084d0df94e2",
   "outputs": [],
   "execution_count": null
  },
  {
   "metadata": {},
   "cell_type": "code",
   "source": [
    "media_infos = []\n",
    "\n",
    "for media_file in media_files:\n",
    "    media_stem, media_ext = os.path.splitext(media_file.name)\n",
    "\n",
    "    media_info = {'target_ext': media_ext, 'media_duplicated_number': None}\n",
    "\n",
    "    if media_stem.endswith('-edited'):  # marked edited\n",
    "        media_info['version'] = MediaVersion.EDITED\n",
    "        media_info['target_stem'] = media_stem.removesuffix('-edited')\n",
    "    elif media_stem.endswith('-edi'):  # google had this abbreviation for 'edited', I'm in shock...\n",
    "        media_info['version'] = MediaVersion.EDITED\n",
    "        media_info['target_stem'] = media_stem.removesuffix('-edi')\n",
    "    elif (suffix_number := get_suffix_number(media_stem)) is not None:  # has mark\n",
    "        stem_no_suffix = media_stem.removesuffix(f'({suffix_number})')\n",
    "        if suffix_number == 1:  # special mark\n",
    "            is_edited = is_edited_version(stem_no_suffix, metadata_objs)\n",
    "            if is_edited:  # marked edited (1)\n",
    "                media_info['version'] = MediaVersion.EDITED\n",
    "            else:\n",
    "                media_info['media_duplicated_number'] = suffix_number\n",
    "                media_info['version'] = MediaVersion.ORIGINAL\n",
    "        else:  # just a duplicated name\n",
    "            media_info['media_duplicated_number'] = suffix_number\n",
    "            media_info['version'] = MediaVersion.ORIGINAL\n",
    "        media_info['target_stem'] = stem_no_suffix\n",
    "    else:  # no mark\n",
    "        media_info['version'] = MediaVersion.ORIGINAL\n",
    "        media_info['target_stem'] = media_stem\n",
    "\n",
    "    media_info['media_path'] = media_file\n",
    "\n",
    "    media_infos.append(media_info)\n",
    "\n",
    "    print(media_info)"
   ],
   "id": "e695653b4f05de6d",
   "outputs": [],
   "execution_count": null
  },
  {
   "metadata": {},
   "cell_type": "code",
   "source": "metadata_objs",
   "id": "dcb0a7fb6464b6c5",
   "outputs": [],
   "execution_count": null
  },
  {
   "metadata": {},
   "cell_type": "code",
   "source": [
    "target_stem = 'original_b6bca13d-c92d-496f-a5c4-b9b6b5401d69_IMG_20220306_215604.jpg'\n",
    "true_stem = 'original_b6bca13d-c92d-496f-a5c4-b9b6b5401d69_I'\n",
    "false_stem = 'original'\n",
    "\n",
    "is_matched_stem(true_stem, target_stem), is_matched_stem(false_stem, target_stem)"
   ],
   "id": "e614e51bb29dd38d",
   "outputs": [],
   "execution_count": null
  },
  {
   "metadata": {},
   "cell_type": "code",
   "source": [
    "from utils import argmax\n",
    "\n",
    "matched = [[] for _ in range(len(metadata_objs))]\n",
    "not_matched_media = []\n",
    "\n",
    "rest_media_infos = media_infos.copy()\n",
    "\n",
    "for info in media_infos:\n",
    "    candidates = []\n",
    "    for meta_idx, meta in enumerate(metadata_objs):\n",
    "        # use is_matched_pair to check target extension (for example, image.jpg, image.png and image.mp4)\n",
    "        if is_matched_stem(info['target_stem'], meta['target_stem']):  # matched name\n",
    "            if meta['meta_duplicated_number'] == info['media_duplicated_number']:\n",
    "                print(f'matched {meta}')\n",
    "                candidates.append(meta_idx)\n",
    "            else:\n",
    "                print(f'found but not matched {meta}')\n",
    "\n",
    "    if not candidates:  # no candidates\n",
    "        print(f'{info[\"target_stem\"]} has no matched metadata', '\\n\\n\\n\\n\\n')\n",
    "        not_matched_media.append(info)\n",
    "    else:  # find best candidate\n",
    "        similarities = [stem_similarity(info['target_stem'], metadata_objs[c]['target_stem']) for c in candidates]\n",
    "        best_idx = argmax(similarities)\n",
    "        matched[candidates[best_idx]].append(info)\n",
    "        print(candidates, similarities, best_idx)"
   ],
   "id": "a362af2975770996",
   "outputs": [],
   "execution_count": null
  },
  {
   "metadata": {},
   "cell_type": "code",
   "source": "matched",
   "id": "1cb2df6f6c8fcd09",
   "outputs": [],
   "execution_count": null
  },
  {
   "metadata": {},
   "cell_type": "code",
   "source": "not_matched_media",
   "id": "68c2d952cb4ba4bd",
   "outputs": [],
   "execution_count": null
  },
  {
   "metadata": {},
   "cell_type": "code",
   "source": [
    "matched_len = [len(x) for x in matched]\n",
    "matched_len"
   ],
   "id": "f1de69c089a07a40",
   "outputs": [],
   "execution_count": null
  },
  {
   "metadata": {},
   "cell_type": "code",
   "source": "set(matched_len)",
   "id": "92cf31ae11e4e0c0",
   "outputs": [],
   "execution_count": null
  },
  {
   "metadata": {},
   "cell_type": "code",
   "source": "assert 0 not in set(matched_len)",
   "id": "9581e25b82be1469",
   "outputs": [],
   "execution_count": null
  },
  {
   "metadata": {},
   "cell_type": "code",
   "source": "sum(matched_len), len(media_infos)",
   "id": "af6b32920c36d2de",
   "outputs": [],
   "execution_count": null
  },
  {
   "metadata": {},
   "cell_type": "code",
   "source": "assert sum(matched_len) == len(media_infos)",
   "id": "98975374dec947c0",
   "outputs": [],
   "execution_count": null
  }
 ],
 "metadata": {
  "kernelspec": {
   "display_name": "Python 3",
   "language": "python",
   "name": "python3"
  },
  "language_info": {
   "codemirror_mode": {
    "name": "ipython",
    "version": 2
   },
   "file_extension": ".py",
   "mimetype": "text/x-python",
   "name": "python",
   "nbconvert_exporter": "python",
   "pygments_lexer": "ipython2",
   "version": "2.7.6"
  }
 },
 "nbformat": 4,
 "nbformat_minor": 5
}
