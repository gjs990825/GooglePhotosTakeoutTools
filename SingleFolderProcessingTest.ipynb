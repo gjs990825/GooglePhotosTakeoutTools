{
 "cells": [
  {
   "metadata": {},
   "cell_type": "code",
   "source": [
    "import pathlib\n",
    "\n",
    "source_root = pathlib.Path(r'D:\\TEMP\\flattened')\n",
    "output_folder = pathlib.Path(r'D:\\TEMP\\output')"
   ],
   "id": "a9b62b33d342a3e2",
   "outputs": [],
   "execution_count": null
  },
  {
   "metadata": {},
   "cell_type": "code",
   "source": [
    "from takeout_tools.matching import pair_single_folder\n",
    "\n",
    "paired, unmatched_media, unmatched_metadata = pair_single_folder(source_root, ignore_errors=True, compare_ext_name=True)"
   ],
   "id": "26ffed0192e4601b",
   "outputs": [],
   "execution_count": null
  },
  {
   "metadata": {},
   "cell_type": "code",
   "source": "unmatched_media",
   "id": "9acac1ad1ff59f12",
   "outputs": [],
   "execution_count": null
  },
  {
   "metadata": {},
   "cell_type": "code",
   "source": "unmatched_metadata",
   "id": "8e5d2c46d329587",
   "outputs": [],
   "execution_count": null
  },
  {
   "metadata": {},
   "cell_type": "code",
   "source": [
    "from takeout_tools import MediaHandler\n",
    "\n",
    "MediaHandler.list_handlers()"
   ],
   "id": "8db929398330cda6",
   "outputs": [],
   "execution_count": null
  },
  {
   "metadata": {},
   "cell_type": "code",
   "source": [
    "from takeout_tools.matching import MediaVersion\n",
    "\n",
    "# select first matched version\n",
    "def prefer_version(files: list[dict], version) -> tuple[list[dict], list[dict]]:\n",
    "    selected, others = [], []\n",
    "    for f_info in files:\n",
    "        if f_info['version'] == version and not selected:\n",
    "            selected.append(f_info)\n",
    "        else:\n",
    "            others.append(f_info)\n",
    "    return selected, others"
   ],
   "id": "6888a13e1fc89a19",
   "outputs": [],
   "execution_count": null
  },
  {
   "metadata": {},
   "cell_type": "code",
   "source": [
    "from functools import partial\n",
    "\n",
    "output_folder.mkdir(exist_ok=True)\n",
    "output_not_selected_folder = output_folder / 'not_selected'\n",
    "output_not_selected_folder.mkdir(exist_ok=True)\n",
    "\n",
    "for metadata, files in paired:\n",
    "    print()\n",
    "    selected, others = prefer_version(files, MediaVersion.ORIGINAL)\n",
    "    \n",
    "    for media_info in selected:\n",
    "        MediaHandler.auto(\n",
    "            media_info,\n",
    "            metadata,\n",
    "            target_folder=output_folder,\n",
    "            allow_fallback=True,\n",
    "        )\n",
    "    \n",
    "    for media_info in others:\n",
    "        MediaHandler.auto(\n",
    "            media_info,\n",
    "            metadata,\n",
    "            target_folder=output_not_selected_folder,\n",
    "            allow_fallback=True,\n",
    "        )\n"
   ],
   "id": "cf7f3f41ea209277",
   "outputs": [],
   "execution_count": null
  },
  {
   "metadata": {},
   "cell_type": "code",
   "source": [
    "unmatched_output_folder = output_folder / 'unmatched'\n",
    "unmatched_files = [d['media_path'] for d in unmatched_media] + [d['metadata_path'] for d in unmatched_metadata]"
   ],
   "id": "8e49f50c405358cb",
   "outputs": [],
   "execution_count": null
  },
  {
   "metadata": {},
   "cell_type": "code",
   "source": "unmatched_files",
   "id": "13c5174d5f62b8d3",
   "outputs": [],
   "execution_count": null
  },
  {
   "metadata": {},
   "cell_type": "code",
   "source": [
    "from functools import partial\n",
    "import shutil\n",
    "\n",
    "unmatched_output_folder.mkdir(exist_ok=True)\n",
    "_ = list(map(partial(shutil.copy, dst=unmatched_output_folder), unmatched_files))"
   ],
   "id": "7955cc5f6020848c",
   "outputs": [],
   "execution_count": null
  }
 ],
 "metadata": {
  "kernelspec": {
   "display_name": "Python 3",
   "language": "python",
   "name": "python3"
  },
  "language_info": {
   "codemirror_mode": {
    "name": "ipython",
    "version": 2
   },
   "file_extension": ".py",
   "mimetype": "text/x-python",
   "name": "python",
   "nbconvert_exporter": "python",
   "pygments_lexer": "ipython2",
   "version": "2.7.6"
  }
 },
 "nbformat": 4,
 "nbformat_minor": 5
}
